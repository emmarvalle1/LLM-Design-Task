{
 "cells": [
  {
   "cell_type": "code",
   "execution_count": 1,
   "id": "cd69226e-fb7a-4e44-bebe-711767dfcf4c",
   "metadata": {},
   "outputs": [],
   "source": [
    "from openai import OpenAI\n",
    "import os\n",
    "import base64\n",
    "import requests\n",
    "\n",
    "from collections import Counter\n",
    "\n",
    "from IPython.display import display, Markdown, Image\n",
    "\n",
    "\n",
    "from dotenv import load_dotenv\n",
    "# Load API key\n",
    "_ = load_dotenv()"
   ]
  },
  {
   "cell_type": "code",
   "execution_count": 2,
   "id": "89f8ae40-b971-42dd-9ba2-1e7f8ff6d2bb",
   "metadata": {},
   "outputs": [],
   "source": [
    "\n",
    "def query_LLM(messages=None, prompt=None, model='gpt-4o'):\n",
    "\n",
    "    if messages is None and prompt:\n",
    "        messages = [{ \"role\": \"user\", \"content\": prompt }]\n",
    "    elif messages is None:\n",
    "        return None\n",
    "        \n",
    "    completion = client.chat.completions.create(\n",
    "      model=model,\n",
    "      messages=messages\n",
    "    )\n",
    "    \n",
    "    response = completion.choices[0].message.content\n",
    "\n",
    "    return response"
   ]
  },
  {
   "cell_type": "code",
   "execution_count": 3,
   "id": "e5f7f668-44ad-4a27-8731-d5538064e5d8",
   "metadata": {},
   "outputs": [],
   "source": [
    "client = OpenAI()"
   ]
  },
  {
   "cell_type": "markdown",
   "id": "275574d4-65cb-4add-914b-b7e6420c06ff",
   "metadata": {},
   "source": [
    "**General idea**  \n",
    "Two different products targeting different problems/audiences.\n",
    "\n",
    "**Prompt used to generate each page**  \n",
    "“Generate a product webpage for a new product called [NAME]. [DESCRIPTION]. Include a description and features and testimonials.”\n",
    "\n",
    "**Product names**  \n",
    "- Product A: Refillr  \n",
    "- Product B: ClassClip"
   ]
  },
  {
   "cell_type": "code",
   "execution_count": 4,
   "id": "ab468a73-f942-4784-9312-803e8312a6d1",
   "metadata": {},
   "outputs": [],
   "source": [
    "productA = open('productA.md').read()\n",
    "productB = open('productB.md').read()"
   ]
  },
  {
   "cell_type": "code",
   "execution_count": 5,
   "id": "51472b90-b2e1-4e3a-ab49-11ec6d7b681c",
   "metadata": {},
   "outputs": [
    {
     "data": {
      "text/markdown": [
       "**Welcome to Refillr – The Roommate Restock Assistant**\n",
       "\n",
       "**Product Description:**\n",
       "Refillr is a smart, shared app that makes running a household effortless. It tracks essentials (paper towels, detergent, trash bags), predicts when you’ll run out, and fairly rotates who buys next—no awkward Venmo texts, no last-minute store runs. Refillr keeps your place stocked and your group in sync.\n",
       "\n",
       "**Features:**\n",
       "- **Smart Restock Reminders:** Predictive alerts based on typical usage so you never run out.\n",
       "- **Fair-Split Rotation:** Automatically assigns the next buyer; keeps a transparent history.\n",
       "- **One-Tap Pay Links:** Generates Venmo/PayPal links to settle up in seconds.\n",
       "- **Shared Lists & Rooms:** Organize by kitchen, bathroom, cleaning closet; everyone sees updates live.\n",
       "- **Price Watch & Deals:** Flags cheaper options nearby or online before you purchase.\n",
       "- **Guest Mode & Privacy:** Temporary access for subletters/guests; your data stays in your household.\n",
       "\n",
       "**Customer Testimonials:**\n",
       "_“We went an entire month without a ‘who’s buying’ fight. Refillr just handled it.” — Priya S.\n",
       "“The rotation is genius. I didn’t realize how uneven our buying was until we tracked it.” — Luis M.\n",
       "“Price alerts basically paid for the app in a week.” — Jordan K._\n",
       "\n",
       "_\"These sunglasses are not just a fashion statement; they’re a lifesaver. The obstacle warnings have drastically reduced my close calls with fallen branches.\" - Megan L._\n",
       "\n",
       "_\"Comfortable, stylish, and highly functional. NeverHitATree is a must-have for any serious cyclist!\" - Ryan C._\n",
       "\n",
       "**Make Empty Shelves History:**\n",
       "Keep the peace, save time, and stay stocked—download Refillr today."
      ],
      "text/plain": [
       "<IPython.core.display.Markdown object>"
      ]
     },
     "metadata": {},
     "output_type": "display_data"
    }
   ],
   "source": [
    "display(Markdown(productA))"
   ]
  },
  {
   "cell_type": "code",
   "execution_count": 6,
   "id": "bcae3c1e-d547-46ff-a693-c258cee6923a",
   "metadata": {},
   "outputs": [
    {
     "data": {
      "text/markdown": [
       "**Welcome to ClassClip – 60-Second Lecture Summaries**\n",
       "\n",
       "**Product Description:**\n",
       "ClassClip turns long lectures into short, study-ready recaps. Upload a recording or notes, and ClassClip delivers a 60-second summary, key terms with quick definitions, and timestamped highlights. It’s perfect for catching up, reviewing before exams, or staying on top of fast courses..\n",
       "\n",
       "**Features:**\n",
       "- **60-Second Recaps:** Crisp summaries you can read or play back between classes.\n",
       "- **Key Terms & Definitions:** Auto-built glossary from each lecture’s most important concepts.\n",
       "- **Timestamped Highlights:** Jump straight to pivotal moments for deeper review.\n",
       "- **Quick Quiz Mode:** Auto-generated checks for understanding in under 3 minutes.\n",
       "- **Export Anywhere:** Save to Google Docs/Notion or share with study partners.\n",
       "- **Accessibility First:** Accurate captions and multi-language support for diverse learners.\n",
       "\n",
       "**Customer Testimonials:**\n",
       "_\"My study group uses the recap + quiz before every midterm. It’s our cheat code.” — Amara T._\n",
       "\n",
       "_\"I missed half a lecture—ClassClip’s highlights caught me up in 10 minutes.” — Ben R.._\n",
       "\n",
       "_“The glossary is gold. I finally remember the definitions prof loves to test.” — Elena V._\n",
       "\n",
       "**Study Smarter, Not Longer:**\n",
       "Turn hours of content into minutes of mastery—try ClassClip free today."
      ],
      "text/plain": [
       "<IPython.core.display.Markdown object>"
      ]
     },
     "metadata": {},
     "output_type": "display_data"
    }
   ],
   "source": [
    "display(Markdown(productB))"
   ]
  },
  {
   "cell_type": "code",
   "execution_count": 10,
   "id": "8517ae92-ab64-4ba6-a449-775ff92f1d98",
   "metadata": {},
   "outputs": [],
   "source": [
    "system_prompt = \"You are consumer who is a {description}\"\n",
    "\n",
    "rating_prompt = f'''\n",
    "   Read the websites for each of these two products\n",
    "   1. Refillr\n",
    "   2. ClassClip\n",
    "\n",
    "   {productA}\n",
    "\n",
    "   ----\n",
    "\n",
    "   {productB}\n",
    "\n",
    "   ----\n",
    "   \n",
    "   Pay careful attention to the features, descriptions and user reviews.\n",
    "\n",
    "   Rate each product on scale of 0 (never buy) to 10 (buy immediately).\n",
    "   Show just your ratings and which product you prefer.\n",
    "   Then briefly explain your ratings\n",
    "'''"
   ]
  },
  {
   "cell_type": "code",
   "execution_count": 13,
   "id": "465da8ca-d769-4c14-b570-3df4eeb8e36d",
   "metadata": {},
   "outputs": [
    {
     "ename": "SyntaxError",
     "evalue": "unterminated string literal (detected at line 2) (283311682.py, line 2)",
     "output_type": "error",
     "traceback": [
      "\u001b[0;36m  Cell \u001b[0;32mIn[13], line 2\u001b[0;36m\u001b[0m\n\u001b[0;31m    \"undergrad, male, 20, heavy STEM lectures, tight schedule,\u001b[0m\n\u001b[0m    ^\u001b[0m\n\u001b[0;31mSyntaxError\u001b[0m\u001b[0;31m:\u001b[0m unterminated string literal (detected at line 2)\n"
     ]
    }
   ],
   "source": [
    "consumers = [\n",
    "    \"undergrad, male, 20, heavy STEM lectures, tight schedule,\n",
    "    \"college student, female, 21, lives with 3 roommates\",\n",
    "    \"student athlete, female, 20\",\n",
    "    \"young professional, 24, lives alone\",\n",
    "    \"sorority house manager, female, 22\",\n",
    "    \"young couple, 24 and 25\"\n",
    "]"
   ]
  },
  {
   "cell_type": "code",
   "execution_count": 12,
   "id": "b39d5bd2-df4e-48bf-aba9-0f2477cb03c7",
   "metadata": {},
   "outputs": [
    {
     "name": "stdout",
     "output_type": "stream",
     "text": [
      "\n",
      "-----\n",
      "cyclist, male, 50s, with low vision\n",
      "**Ratings:**\n",
      "- Refillr: 6\n",
      "- ClassClip: 4\n",
      "\n",
      "**Preference:** Refillr\n",
      "\n",
      "**Explanation:**\n",
      "\n",
      "As a cyclist with low vision, my rating is influenced by the practicality and relevance of each product to my lifestyle and needs.\n",
      "\n",
      "- **Refillr**: I rated this app a 6 because while it is not directly related to cycling or visually impaired needs, its features such as the smart restock reminders and fair-split rotation could simplify managing household supplies with roommates, minimizing stress and maintaining harmony. This is particularly useful if I share living space and don't want to handle unnecessary disputes. Its usability sounds efficient with one-tap payment links and live shared lists, which could be user-friendly for someone like me who might struggle with more visually complex apps.\n",
      "\n",
      "- **ClassClip**: I gave this a 4 because although it has promising features for students or those in academia, I do not regularly attend lectures where this utility would shine. Additionally, while accessibility is prioritized, the core functionality doesn’t align much with my current needs. I prefer tools that directly offer solutions related to my cycling or low vision lifestyle.\n",
      "\n",
      "Overall, Refillr seems to offer more immediate practical benefits, making it the preferable option among the two, despite neither product being a perfect fit for my specific needs. \n",
      "\n",
      "\n",
      "-----\n",
      "cyclist, female, 30s\n",
      "**Ratings:**\n",
      "\n",
      "1. Refillr: 7\n",
      "2. ClassClip: 4\n",
      "\n",
      "**Preferred Product: Refillr**\n",
      "\n",
      "**Explanation:**\n",
      "\n",
      "**Refillr**: I rated this a 7 because it solves a common household issue of managing shared household supplies, which can be particularly beneficial if living with roommates. The features like smart restock reminders, fair-split rotation, and price watch are practical and well-integrated for communal living. The one-tap pay links add convenience, making financial settlements hassle-free. While this isn't directly related to my cycling interests, I appreciate efficiency in household management, especially when it helps avoid awkward confrontations with roommates.\n",
      "\n",
      "**ClassClip**: I rated this a 4 because while ClassClip seems to offer valuable features for students, such as quick summaries and key term glossaries, it's less relevant for my needs. Having completed my formal education, I have less immediate use for a study aid tool. However, I can see its appeal for students needing to save time, especially with the quick quiz mode. The accessibility features are commendable but, overall, it doesn’t align with my current lifestyle or interests enough to warrant a higher rating. \n",
      "\n",
      "\n",
      "-----\n",
      "non-cyclist, male, 50s\n",
      "**Ratings:**\n",
      "\n",
      "Refillr: 8\n",
      "ClassClip: 6\n",
      "\n",
      "**Preferred Product:** Refillr\n",
      "\n",
      "**Explanation:**\n",
      "\n",
      "As someone in his 50s who doesn't cycle and may share a household with others, Refillr offers practical utilities that are directly relevant to maintaining a smooth-running home environment. The predictiveness of stock levels and automatic assignment of next buyer responsibilities could significantly reduce hassles around household item procurement, aligning well with a preference for less direct management and conflict over chores. The features like price alerts and shared lists also contribute valuable convenience, making the app a useful tool.\n",
      "\n",
      "ClassClip, while a valuable tool for students, doesn't directly cater to my immediate needs unless engaged in academic pursuits that involve long lectures or coursework. While its features such as 60-second recaps and key terms glossary reflect efficiency, they don't align as closely with my current lifestyle as Refillr does. \n",
      "\n",
      "\n",
      "-----\n",
      "non-cyclist, female, 30s\n",
      "Refillr Rating: 8  \n",
      "ClassClip Rating: 7  \n",
      "\n",
      "Preferred Product: Refillr\n",
      "\n",
      "Explanation:\n",
      "\n",
      "As a non-cyclist in my 30s, Refillr stands out due to its practicality in managing shared living spaces, which I find particularly relevant for those in roommate situations or busy households. The features like Smart Restock Reminders and Fair-Split Rotation solve common everyday hassles by automating tasks and promoting fairness, which can save time and maintain harmony at home. Customer testimonials emphasize the app's effectiveness in reducing conflicts and saving money, making it very appealing.\n",
      "\n",
      "ClassClip, on the other hand, offers an appealing service by condensing long lectures into manageable summaries, which is beneficial for students or lifelong learners. The focus on recaps, key terms, and quizzes is valuable for efficient studying. However, since it caters more to students or those continuously engaging in academic settings, it is slightly less applicable to my current lifestyle, hence a slightly lower rating. \n",
      "\n"
     ]
    }
   ],
   "source": [
    "for consumer in consumers:\n",
    "    print(f\"\\n-----\\n{consumer}\")\n",
    "\n",
    "    messages = [\n",
    "       {\"role\": \"system\", \"content\": system_prompt.format(description=consumer)},\n",
    "       {\"role\": \"system\", \"content\": rating_prompt}\n",
    "    ]\n",
    "\n",
    "    response = query_LLM(messages=messages)\n",
    "\n",
    "    print(response,'\\n')"
   ]
  },
  {
   "cell_type": "code",
   "execution_count": null,
   "id": "969c9c8f-17f5-4f8f-8e32-5a2f36384350",
   "metadata": {},
   "outputs": [],
   "source": []
  }
 ],
 "metadata": {
  "kernelspec": {
   "display_name": "Python 3-12 (COMM4190)",
   "language": "python",
   "name": "python3-12_comm4190"
  },
  "language_info": {
   "codemirror_mode": {
    "name": "ipython",
    "version": 3
   },
   "file_extension": ".py",
   "mimetype": "text/x-python",
   "name": "python",
   "nbconvert_exporter": "python",
   "pygments_lexer": "ipython3",
   "version": "3.12.11"
  }
 },
 "nbformat": 4,
 "nbformat_minor": 5
}
